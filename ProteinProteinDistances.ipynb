{
 "cells": [
  {
   "cell_type": "code",
   "execution_count": 1,
   "id": "bf56ccef",
   "metadata": {},
   "outputs": [
    {
     "name": "stdout",
     "output_type": "stream",
     "text": [
      "Intel MKL WARNING: Support of Intel(R) Streaming SIMD Extensions 4.2 (Intel(R) SSE4.2) enabled only processors has been deprecated. Intel oneAPI Math Kernel Library 2025.0 will require Intel(R) Advanced Vector Extensions (Intel(R) AVX) instructions.\n",
      "Intel MKL WARNING: Support of Intel(R) Streaming SIMD Extensions 4.2 (Intel(R) SSE4.2) enabled only processors has been deprecated. Intel oneAPI Math Kernel Library 2025.0 will require Intel(R) Advanced Vector Extensions (Intel(R) AVX) instructions.\n"
     ]
    }
   ],
   "source": [
    "import numpy as np\n",
    "from Bio.PDB import PDBParser, Selection\n",
    "import matplotlib.pyplot as plt\n",
    "import seaborn as sns\n",
    "from matplotlib.ticker import MultipleLocator\n",
    "from Bio.PDB import PDBParser, Selection"
   ]
  },
  {
   "cell_type": "code",
   "execution_count": 2,
   "id": "cf3741fe",
   "metadata": {},
   "outputs": [],
   "source": [
    "\n",
    "def calculate_distance_matrix(pdb_filename, chainID1, chainID2, cutoff, startRes1=None, endRes1=None, startRes2=None, endRes2=None, chain1_name=\"Chain 1\", chain2_name=\"Chain 2\"):\n",
    "    extraChain_1 = ''\n",
    "    extraChain_2 = ''\n",
    "    # Create a PDB parser\n",
    "    parser = PDBParser(QUIET=True)\n",
    "\n",
    "    # Load the structure from the PDB file\n",
    "    structure = parser.get_structure(\"structure\", pdb_filename)\n",
    "\n",
    "    # Get the chain objects from the structure\n",
    "    chain1 = structure[0][chainID1]\n",
    "    chain2 = structure[0][chainID2]\n",
    "    \n",
    "    #Checking if we are using the cut startRed and endRes, first we save original values to later check if \n",
    "    #any was none\n",
    "    myInitVals = [startRes1, endRes1, startRes2, endRes2]\n",
    "\n",
    "    # Set default values for startRes and endRes if not provided\n",
    "    if startRes1 is None:\n",
    "        startRes1 = min(r.id[1] for r in chain1)\n",
    "    if endRes1 is None:\n",
    "        endRes1 = max(r.id[1] for r in chain1)\n",
    "    if startRes2 is None:\n",
    "        startRes2 = min(r.id[1] for r in chain2)\n",
    "    if endRes2 is None:\n",
    "        endRes2 = max(r.id[1] for r in chain2)\n",
    "        \n",
    "    if myInitVals[0] is None or myInitVals[1] is None or myInitVals[2] is None or myInitVals[3] is None:\n",
    "        extraChain_1 = ' ('+str(startRes1)+'-'+str(endRes1)+')'\n",
    "        extraChain_2 = ' ('+str(startRes2)+'-'+str(endRes2)+')'\n",
    "    \n",
    "    # Initialize a distance matrix\n",
    "    matrix = np.zeros((endRes1 - startRes1 + 1, endRes2 - startRes2 + 1))\n",
    "\n",
    "    # Calculate distances between specified residues\n",
    "    for i, res1 in enumerate(range(startRes1, endRes1 + 1)):\n",
    "        for j, res2 in enumerate(range(startRes2, endRes2 + 1)):\n",
    "            atom_list1 = Selection.unfold_entities(chain1[res1], \"A\")\n",
    "            atom_list2 = Selection.unfold_entities(chain2[res2], \"A\")\n",
    "            distance = min(\n",
    "                atom1 - atom2\n",
    "                for atom1 in atom_list1\n",
    "                for atom2 in atom_list2\n",
    "            )\n",
    "            matrix[i, j] = distance\n",
    "    \n",
    "    plt.figure(figsize=(12, 8))  # Wider figure\n",
    "    \n",
    "    # Apply Seaborn's heatmap\n",
    "    cmap = 'rocket'\n",
    "    title = 'Distance Heatmap'\n",
    "    sns.heatmap(matrix, cmap=cmap, annot=False, fmt=\".2f\", vmin=0, vmax=cutoff)\n",
    "    \n",
    "    # Set tick positions based on the number of residues\n",
    "    max_ticks = 10  # Maximum number of ticks to show\n",
    "    x_tick_count = (endRes2 - startRes2 + 1)\n",
    "    y_tick_count = (endRes1 - startRes1 + 1)\n",
    "    \n",
    "    x_tick_step = max(1, x_tick_count // max_ticks)\n",
    "    y_tick_step = max(1, y_tick_count // max_ticks)\n",
    "    \n",
    "    x_tick_positions = np.arange(startRes2, endRes2 + 1, x_tick_step)\n",
    "    y_tick_positions = np.arange(startRes1, endRes1 + 1, y_tick_step)\n",
    "    \n",
    "    plt.xticks(x_tick_positions - startRes2, x_tick_positions)\n",
    "    plt.yticks(y_tick_positions - startRes1, y_tick_positions)\n",
    "\n",
    "    # Set labels and display the plot\n",
    "    plt.title(title)\n",
    "    plt.xlabel(chain2_name+extraChain_2)\n",
    "    plt.ylabel(chain1_name+extraChain_1)\n",
    "    plt.gca().xaxis.set_major_locator(MultipleLocator(base=x_tick_step))\n",
    "    plt.gca().yaxis.set_major_locator(MultipleLocator(base=y_tick_step))\n",
    "    plt.tight_layout()  # Ensure labels don't get cut off\n",
    "    plt.show()\n",
    "\n",
    "    return matrix\n"
   ]
  },
  {
   "cell_type": "code",
   "execution_count": 3,
   "id": "e8cd711c",
   "metadata": {},
   "outputs": [],
   "source": [
    "def plot_distance_heatmap(distance_matrix, cutoff, cmap='viridis', title='Distance Heatmap'):\n",
    "    plt.figure(figsize=(10, 8))\n",
    "    \n",
    "    # Apply Seaborn's heatmap\n",
    "    sns.heatmap(distance_matrix, cmap=cmap, annot=False, fmt=\".2f\", vmin=0, vmax=cutoff)\n",
    "    \n",
    "    plt.title(title)\n",
    "    plt.xlabel('Chain 2 Residues')\n",
    "    plt.ylabel('Chain 1 Residues')\n",
    "    plt.show()\n"
   ]
  },
  {
   "cell_type": "code",
   "execution_count": 4,
   "id": "958138cc",
   "metadata": {},
   "outputs": [],
   "source": [
    "#!ls ~/Documents/YarovLab/repositories/repo-MultimerAnalysis/\n",
    "!ls /home/"
   ]
  },
  {
   "cell_type": "code",
   "execution_count": 5,
   "id": "f643b86a",
   "metadata": {
    "scrolled": false
   },
   "outputs": [
    {
     "ename": "FileNotFoundError",
     "evalue": "[Errno 2] No such file or directory: '~/Documents/YarovLab/repositories/repo-MultimerAnalysis/testCav12andCaMmultimerv3pbd70try4_3fff0_relaxed_rank_001_alphafold2_multimer_v3_model_3_seed_000.pdb'",
     "output_type": "error",
     "traceback": [
      "\u001b[0;31m---------------------------------------------------------------------------\u001b[0m",
      "\u001b[0;31mFileNotFoundError\u001b[0m                         Traceback (most recent call last)",
      "Cell \u001b[0;32mIn[5], line 12\u001b[0m\n\u001b[1;32m      9\u001b[0m chain1Name \u001b[38;5;241m=\u001b[39m \u001b[38;5;124m\"\u001b[39m\u001b[38;5;124malpha hCav1.2\u001b[39m\u001b[38;5;124m\"\u001b[39m\n\u001b[1;32m     10\u001b[0m chain2Name \u001b[38;5;241m=\u001b[39m \u001b[38;5;124m\"\u001b[39m\u001b[38;5;124mCaM\u001b[39m\u001b[38;5;124m\"\u001b[39m\n\u001b[0;32m---> 12\u001b[0m distance_matrix \u001b[38;5;241m=\u001b[39m \u001b[43mcalculate_distance_matrix\u001b[49m\u001b[43m(\u001b[49m\u001b[43mpdb_filename\u001b[49m\u001b[43m,\u001b[49m\u001b[43m \u001b[49m\u001b[43mchainID1\u001b[49m\u001b[43m,\u001b[49m\u001b[43m \u001b[49m\u001b[43mchainID2\u001b[49m\u001b[43m,\u001b[49m\u001b[43m \u001b[49m\u001b[43mcutoff\u001b[49m\u001b[43m,\u001b[49m\u001b[43m \u001b[49m\u001b[43mstartRes1\u001b[49m\u001b[43m,\u001b[49m\u001b[43m \u001b[49m\u001b[43mendRes1\u001b[49m\u001b[43m,\u001b[49m\u001b[43m \u001b[49m\u001b[43mstartRes2\u001b[49m\u001b[43m,\u001b[49m\u001b[43m \u001b[49m\u001b[43mendRes2\u001b[49m\u001b[43m,\u001b[49m\u001b[43m \u001b[49m\u001b[43mchain1Name\u001b[49m\u001b[43m,\u001b[49m\u001b[43m \u001b[49m\u001b[43mchain2Name\u001b[49m\u001b[43m)\u001b[49m\n\u001b[1;32m     14\u001b[0m \u001b[38;5;28mprint\u001b[39m(distance_matrix)\n",
      "Cell \u001b[0;32mIn[2], line 8\u001b[0m, in \u001b[0;36mcalculate_distance_matrix\u001b[0;34m(pdb_filename, chainID1, chainID2, cutoff, startRes1, endRes1, startRes2, endRes2, chain1_name, chain2_name)\u001b[0m\n\u001b[1;32m      5\u001b[0m parser \u001b[38;5;241m=\u001b[39m PDBParser(QUIET\u001b[38;5;241m=\u001b[39m\u001b[38;5;28;01mTrue\u001b[39;00m)\n\u001b[1;32m      7\u001b[0m \u001b[38;5;66;03m# Load the structure from the PDB file\u001b[39;00m\n\u001b[0;32m----> 8\u001b[0m structure \u001b[38;5;241m=\u001b[39m \u001b[43mparser\u001b[49m\u001b[38;5;241;43m.\u001b[39;49m\u001b[43mget_structure\u001b[49m\u001b[43m(\u001b[49m\u001b[38;5;124;43m\"\u001b[39;49m\u001b[38;5;124;43mstructure\u001b[39;49m\u001b[38;5;124;43m\"\u001b[39;49m\u001b[43m,\u001b[49m\u001b[43m \u001b[49m\u001b[43mpdb_filename\u001b[49m\u001b[43m)\u001b[49m\n\u001b[1;32m     10\u001b[0m \u001b[38;5;66;03m# Get the chain objects from the structure\u001b[39;00m\n\u001b[1;32m     11\u001b[0m chain1 \u001b[38;5;241m=\u001b[39m structure[\u001b[38;5;241m0\u001b[39m][chainID1]\n",
      "File \u001b[0;32m~/anaconda3/lib/python3.10/site-packages/Bio/PDB/PDBParser.py:96\u001b[0m, in \u001b[0;36mPDBParser.get_structure\u001b[0;34m(self, id, file)\u001b[0m\n\u001b[1;32m     93\u001b[0m \u001b[38;5;66;03m# Make a StructureBuilder instance (pass id of structure as parameter)\u001b[39;00m\n\u001b[1;32m     94\u001b[0m \u001b[38;5;28mself\u001b[39m\u001b[38;5;241m.\u001b[39mstructure_builder\u001b[38;5;241m.\u001b[39minit_structure(\u001b[38;5;28mid\u001b[39m)\n\u001b[0;32m---> 96\u001b[0m \u001b[38;5;28;01mwith\u001b[39;00m as_handle(file) \u001b[38;5;28;01mas\u001b[39;00m handle:\n\u001b[1;32m     97\u001b[0m     lines \u001b[38;5;241m=\u001b[39m handle\u001b[38;5;241m.\u001b[39mreadlines()\n\u001b[1;32m     98\u001b[0m     \u001b[38;5;28;01mif\u001b[39;00m \u001b[38;5;129;01mnot\u001b[39;00m lines:\n",
      "File \u001b[0;32m~/anaconda3/lib/python3.10/contextlib.py:135\u001b[0m, in \u001b[0;36m_GeneratorContextManager.__enter__\u001b[0;34m(self)\u001b[0m\n\u001b[1;32m    133\u001b[0m \u001b[38;5;28;01mdel\u001b[39;00m \u001b[38;5;28mself\u001b[39m\u001b[38;5;241m.\u001b[39margs, \u001b[38;5;28mself\u001b[39m\u001b[38;5;241m.\u001b[39mkwds, \u001b[38;5;28mself\u001b[39m\u001b[38;5;241m.\u001b[39mfunc\n\u001b[1;32m    134\u001b[0m \u001b[38;5;28;01mtry\u001b[39;00m:\n\u001b[0;32m--> 135\u001b[0m     \u001b[38;5;28;01mreturn\u001b[39;00m \u001b[38;5;28;43mnext\u001b[39;49m\u001b[43m(\u001b[49m\u001b[38;5;28;43mself\u001b[39;49m\u001b[38;5;241;43m.\u001b[39;49m\u001b[43mgen\u001b[49m\u001b[43m)\u001b[49m\n\u001b[1;32m    136\u001b[0m \u001b[38;5;28;01mexcept\u001b[39;00m \u001b[38;5;167;01mStopIteration\u001b[39;00m:\n\u001b[1;32m    137\u001b[0m     \u001b[38;5;28;01mraise\u001b[39;00m \u001b[38;5;167;01mRuntimeError\u001b[39;00m(\u001b[38;5;124m\"\u001b[39m\u001b[38;5;124mgenerator didn\u001b[39m\u001b[38;5;124m'\u001b[39m\u001b[38;5;124mt yield\u001b[39m\u001b[38;5;124m\"\u001b[39m) \u001b[38;5;28;01mfrom\u001b[39;00m \u001b[38;5;28mNone\u001b[39m\n",
      "File \u001b[0;32m~/anaconda3/lib/python3.10/site-packages/Bio/File.py:72\u001b[0m, in \u001b[0;36mas_handle\u001b[0;34m(handleish, mode, **kwargs)\u001b[0m\n\u001b[1;32m     30\u001b[0m \u001b[38;5;124mr\u001b[39m\u001b[38;5;124;03m\"\"\"Context manager to ensure we are using a handle.\u001b[39;00m\n\u001b[1;32m     31\u001b[0m \n\u001b[1;32m     32\u001b[0m \u001b[38;5;124;03mContext manager for arguments that can be passed to SeqIO and AlignIO read, write,\u001b[39;00m\n\u001b[0;32m   (...)\u001b[0m\n\u001b[1;32m     69\u001b[0m \n\u001b[1;32m     70\u001b[0m \u001b[38;5;124;03m\"\"\"\u001b[39;00m\n\u001b[1;32m     71\u001b[0m \u001b[38;5;28;01mtry\u001b[39;00m:\n\u001b[0;32m---> 72\u001b[0m     \u001b[38;5;28;01mwith\u001b[39;00m \u001b[38;5;28;43mopen\u001b[39;49m\u001b[43m(\u001b[49m\u001b[43mhandleish\u001b[49m\u001b[43m,\u001b[49m\u001b[43m \u001b[49m\u001b[43mmode\u001b[49m\u001b[43m,\u001b[49m\u001b[43m \u001b[49m\u001b[38;5;241;43m*\u001b[39;49m\u001b[38;5;241;43m*\u001b[39;49m\u001b[43mkwargs\u001b[49m\u001b[43m)\u001b[49m \u001b[38;5;28;01mas\u001b[39;00m fp:\n\u001b[1;32m     73\u001b[0m         \u001b[38;5;28;01myield\u001b[39;00m fp\n\u001b[1;32m     74\u001b[0m \u001b[38;5;28;01mexcept\u001b[39;00m \u001b[38;5;167;01mTypeError\u001b[39;00m:\n",
      "\u001b[0;31mFileNotFoundError\u001b[0m: [Errno 2] No such file or directory: '~/Documents/YarovLab/repositories/repo-MultimerAnalysis/testCav12andCaMmultimerv3pbd70try4_3fff0_relaxed_rank_001_alphafold2_multimer_v3_model_3_seed_000.pdb'"
     ]
    }
   ],
   "source": [
    "pdb_filename = \"~/Documents/YarovLab/repositories/repo-MultimerAnalysis/testCav12andCaMmultimerv3pbd70try4_3fff0_relaxed_rank_001_alphafold2_multimer_v3_model_3_seed_000.pdb\"\n",
    "chainID1 = \"A\"\n",
    "chainID2 = \"B\"\n",
    "cutoff = 3\n",
    "startRes1 = 1610\n",
    "endRes1 = 1635\n",
    "startRes2 = 1\n",
    "endRes2 = None\n",
    "chain1Name = \"alpha hCav1.2\"\n",
    "chain2Name = \"CaM\"\n",
    "\n",
    "distance_matrix = calculate_distance_matrix(pdb_filename, chainID1, chainID2, cutoff, startRes1, endRes1, startRes2, endRes2, chain1Name, chain2Name)\n",
    "\n",
    "print(distance_matrix)"
   ]
  }
 ],
 "metadata": {
  "kernelspec": {
   "display_name": "Python 3 (ipykernel)",
   "language": "python",
   "name": "python3"
  },
  "language_info": {
   "codemirror_mode": {
    "name": "ipython",
    "version": 3
   },
   "file_extension": ".py",
   "mimetype": "text/x-python",
   "name": "python",
   "nbconvert_exporter": "python",
   "pygments_lexer": "ipython3",
   "version": "3.10.9"
  }
 },
 "nbformat": 4,
 "nbformat_minor": 5
}
