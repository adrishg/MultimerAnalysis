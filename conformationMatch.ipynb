{
 "cells": [
  {
   "cell_type": "code",
   "execution_count": 2,
   "id": "e19ea1ac",
   "metadata": {},
   "outputs": [
    {
     "name": "stdout",
     "output_type": "stream",
     "text": [
      "Collecting matplotlib\n",
      "  Downloading matplotlib-3.7.2-cp311-cp311-macosx_10_12_x86_64.whl (7.4 MB)\n",
      "\u001b[2K     \u001b[38;2;114;156;31m━━━━━━━━━━━━━━━━━━━━━━━━━━━━━━━━━━━━━━━━\u001b[0m \u001b[32m7.4/7.4 MB\u001b[0m \u001b[31m10.0 MB/s\u001b[0m eta \u001b[36m0:00:00\u001b[0mm eta \u001b[36m0:00:01\u001b[0m[36m0:00:01\u001b[0m\n",
      "\u001b[?25hCollecting contourpy>=1.0.1\n",
      "  Downloading contourpy-1.1.0-cp311-cp311-macosx_10_9_x86_64.whl (243 kB)\n",
      "\u001b[2K     \u001b[38;2;114;156;31m━━━━━━━━━━━━━━━━━━━━━━━━━━━━━━━━━━━━━━━\u001b[0m \u001b[32m243.5/243.5 kB\u001b[0m \u001b[31m8.6 MB/s\u001b[0m eta \u001b[36m0:00:00\u001b[0m\n",
      "\u001b[?25hCollecting cycler>=0.10\n",
      "  Downloading cycler-0.11.0-py3-none-any.whl (6.4 kB)\n",
      "Collecting fonttools>=4.22.0\n",
      "  Downloading fonttools-4.42.1-cp311-cp311-macosx_10_9_x86_64.whl (2.2 MB)\n",
      "\u001b[2K     \u001b[38;2;114;156;31m━━━━━━━━━━━━━━━━━━━━━━━━━━━━━━━━━━━━━━━━\u001b[0m \u001b[32m2.2/2.2 MB\u001b[0m \u001b[31m10.5 MB/s\u001b[0m eta \u001b[36m0:00:00\u001b[0m31m11.4 MB/s\u001b[0m eta \u001b[36m0:00:01\u001b[0m\n",
      "\u001b[?25hCollecting kiwisolver>=1.0.1\n",
      "  Downloading kiwisolver-1.4.5-cp311-cp311-macosx_10_9_x86_64.whl (68 kB)\n",
      "\u001b[2K     \u001b[38;2;114;156;31m━━━━━━━━━━━━━━━━━━━━━━━━━━━━━━━━━━━━━━━━\u001b[0m \u001b[32m68.2/68.2 kB\u001b[0m \u001b[31m7.8 MB/s\u001b[0m eta \u001b[36m0:00:00\u001b[0m\n",
      "\u001b[?25hRequirement already satisfied: numpy>=1.20 in /Users/adrianahernandezgonzalez/anaconda3/envs/bioadri/lib/python3.11/site-packages (from matplotlib) (1.25.2)\n",
      "Requirement already satisfied: packaging>=20.0 in /Users/adrianahernandezgonzalez/anaconda3/envs/bioadri/lib/python3.11/site-packages (from matplotlib) (23.0)\n",
      "Collecting pillow>=6.2.0\n",
      "  Downloading Pillow-10.0.0-cp311-cp311-macosx_10_10_x86_64.whl (3.4 MB)\n",
      "\u001b[2K     \u001b[38;2;114;156;31m━━━━━━━━━━━━━━━━━━━━━━━━━━━━━━━━━━━━━━━━\u001b[0m \u001b[32m3.4/3.4 MB\u001b[0m \u001b[31m10.3 MB/s\u001b[0m eta \u001b[36m0:00:00\u001b[0mm eta \u001b[36m0:00:01\u001b[0m0:01\u001b[0m:01\u001b[0m\n",
      "\u001b[?25hCollecting pyparsing<3.1,>=2.3.1\n",
      "  Downloading pyparsing-3.0.9-py3-none-any.whl (98 kB)\n",
      "\u001b[2K     \u001b[38;2;114;156;31m━━━━━━━━━━━━━━━━━━━━━━━━━━━━━━━━━━━━━━━━\u001b[0m \u001b[32m98.3/98.3 kB\u001b[0m \u001b[31m7.3 MB/s\u001b[0m eta \u001b[36m0:00:00\u001b[0m\n",
      "\u001b[?25hRequirement already satisfied: python-dateutil>=2.7 in /Users/adrianahernandezgonzalez/anaconda3/envs/bioadri/lib/python3.11/site-packages (from matplotlib) (2.8.2)\n",
      "Requirement already satisfied: six>=1.5 in /Users/adrianahernandezgonzalez/anaconda3/envs/bioadri/lib/python3.11/site-packages (from python-dateutil>=2.7->matplotlib) (1.16.0)\n",
      "Installing collected packages: pyparsing, pillow, kiwisolver, fonttools, cycler, contourpy, matplotlib\n",
      "Successfully installed contourpy-1.1.0 cycler-0.11.0 fonttools-4.42.1 kiwisolver-1.4.5 matplotlib-3.7.2 pillow-10.0.0 pyparsing-3.0.9\n"
     ]
    }
   ],
   "source": [
    "#import chimera\n",
    "import numpy as np\n",
    "import os\n",
    "!pip install matplotlib\n",
    "import matplotlib.pyplot as plt"
   ]
  },
  {
   "cell_type": "code",
   "execution_count": 3,
   "id": "1d2d12d9",
   "metadata": {},
   "outputs": [
    {
     "ename": "ModuleNotFoundError",
     "evalue": "No module named 'chimerax'",
     "output_type": "error",
     "traceback": [
      "\u001b[0;31m---------------------------------------------------------------------------\u001b[0m",
      "\u001b[0;31mModuleNotFoundError\u001b[0m                       Traceback (most recent call last)",
      "Cell \u001b[0;32mIn[3], line 1\u001b[0m\n\u001b[0;32m----> 1\u001b[0m \u001b[38;5;28;01mfrom\u001b[39;00m \u001b[38;5;21;01mchimerax\u001b[39;00m\u001b[38;5;21;01m.\u001b[39;00m\u001b[38;5;21;01mcore\u001b[39;00m\u001b[38;5;21;01m.\u001b[39;00m\u001b[38;5;21;01mcommands\u001b[39;00m \u001b[38;5;28;01mimport\u001b[39;00m run\n",
      "\u001b[0;31mModuleNotFoundError\u001b[0m: No module named 'chimerax'"
     ]
    }
   ],
   "source": [
    "from chimerax.core.commands import run\n",
    "#run(session, \"color red\")"
   ]
  },
  {
   "cell_type": "code",
   "execution_count": null,
   "id": "08bb1e23",
   "metadata": {},
   "outputs": [],
   "source": [
    "# Specify the folder containing the NMR reference PDB files\n",
    "nmr_folder = \"/path/to/your/nmr/reference/files\"\n",
    "\n",
    "# Specify the folder containing the PDB files you want to compare\n",
    "pdb_folder = \"/path/to/your/pdb/files\"\n",
    "\n",
    "# Get a list of all NMR reference PDB files\n",
    "nmr_files = [f for f in os.listdir(nmr_folder) if f.endswith(\".pdb\")]\n",
    "\n",
    "# Get a list of all PDB files in the folder\n",
    "pdb_files = [f for f in os.listdir(pdb_folder) if f.endswith(\".pdb\")]\n",
    "\n",
    "# Specify your NMR reference protein names\n",
    "nmr_references = [\"NMR1\", \"NMR2\", \"NMR3\"]\n",
    "\n",
    "# Initialize an empty array to store similarity scores\n",
    "similarity_matrix = np.zeros((len(nmr_references), len(pdb_files)))\n",
    "\n",
    "# Create a ChimeraX session\n",
    "session = chimera.openSession()\n",
    "\n",
    "# Iterate through the NMR reference proteins\n",
    "for i, ref_name in enumerate(nmr_references):\n",
    "    # Iterate through the PDB files\n",
    "    for j, pdb_file in enumerate(pdb_files):\n",
    "        # Load the NMR reference PDB file\n",
    "        cmd = f\"open {os.path.join(nmr_folder, nmr_files[i])}\"\n",
    "        chimera.runCommand(session, cmd)\n",
    "        \n",
    "        # Load the PDB file you want to compare\n",
    "        cmd = f\"open {os.path.join(pdb_folder, pdb_file)}\"\n",
    "        chimera.runCommand(session, cmd)\n",
    "        \n",
    "        # Run the matchmaker command to calculate similarity\n",
    "        cmd = f\"matchmaker :.{pdb_file[:-4]}.B #{ref_name} :.{nmr_files[i][:-4]}.B\"\n",
    "        result = chimera.runCommand(session, cmd)\n",
    "        \n",
    "        # Parse the similarity score from the command output\n",
    "        similarity_score = float(result.split()[-1])\n",
    "        \n",
    "        # Store the similarity score in the matrix\n",
    "        similarity_matrix[i, j] = similarity_score\n",
    "        \n",
    "        # Close the loaded PDB files\n",
    "        cmd = f\"close :.{pdb_file[:-4]}\"\n",
    "        chimera.runCommand(session, cmd)\n",
    "        cmd = f\"close :.{nmr_files[i][:-4]}\"\n",
    "        chimera.runCommand(session, cmd)\n",
    "\n",
    "# Create a heatmap using Matplotlib\n",
    "plt.imshow(similarity_matrix, cmap='viridis', interpolation='nearest')\n",
    "plt.colorbar(label='Similarity')\n",
    "plt.xticks(np.arange(len(pdb_files)), [pdb[:-4] for pdb in pdb_files], rotation=45)\n",
    "plt.yticks(np.arange(len(nmr_references)), nmr_references)\n",
    "plt.title('Protein Similarity Heatmap')\n",
    "plt.show()\n"
   ]
  }
 ],
 "metadata": {
  "kernelspec": {
   "display_name": "Python 3 (ipykernel)",
   "language": "python",
   "name": "python3"
  },
  "language_info": {
   "codemirror_mode": {
    "name": "ipython",
    "version": 3
   },
   "file_extension": ".py",
   "mimetype": "text/x-python",
   "name": "python",
   "nbconvert_exporter": "python",
   "pygments_lexer": "ipython3",
   "version": "3.11.2"
  }
 },
 "nbformat": 4,
 "nbformat_minor": 5
}
