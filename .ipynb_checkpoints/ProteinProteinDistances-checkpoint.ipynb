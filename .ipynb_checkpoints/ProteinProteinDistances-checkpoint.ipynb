{
 "cells": [
  {
   "cell_type": "code",
   "execution_count": 84,
   "id": "bf56ccef",
   "metadata": {},
   "outputs": [],
   "source": [
    "import numpy as np\n",
    "from Bio.PDB import PDBParser, Selection\n",
    "import matplotlib.pyplot as plt"
   ]
  },
  {
   "cell_type": "code",
   "execution_count": 109,
   "id": "d66abc15",
   "metadata": {},
   "outputs": [],
   "source": [
    "def calculate_distance_matrix(pdb_filename, chainID1, chainID2, startRes1=None, endRes1=None, startRes2=None, endRes2=None):\n",
    "    extraChain_1 = ''\n",
    "    extraChain_2 = ''\n",
    "    # Create a PDB parser\n",
    "    parser = PDBParser(QUIET=True)\n",
    "\n",
    "    # Load the structure from the PDB file\n",
    "    structure = parser.get_structure(\"structure\", pdb_filename)\n",
    "\n",
    "    # Get the chain objects from the structure\n",
    "    chain1 = structure[0][chainID1]\n",
    "    chain2 = structure[0][chainID2]\n",
    "    \n",
    "    #Checking if we are using the cut startRed and endRes \n",
    "\n",
    "    # Set default values for startRes and endRes if not provided\n",
    "    if startRes1 is None:\n",
    "        startRes1 = min(r.id[1] for r in chain1)\n",
    "    if endRes1 is None:\n",
    "        endRes1 = max(r.id[1] for r in chain1)\n",
    "    if startRes2 is None:\n",
    "        startRes2 = min(r.id[1] for r in chain2)\n",
    "    if endRes2 is None:\n",
    "        endRes2 = max(r.id[1] for r in chain2)\n",
    "    \n",
    "\n",
    "    # Initialize a distance matrix\n",
    "    matrix = np.zeros((endRes1 - startRes1 + 1, endRes2 - startRes2 + 1))\n",
    "\n",
    "    # Calculate distances between specified residues\n",
    "    for i, res1 in enumerate(range(startRes1, endRes1 + 1)):\n",
    "        for j, res2 in enumerate(range(startRes2, endRes2 + 1)):\n",
    "            atom_list1 = Selection.unfold_entities(chain1[res1], \"A\")\n",
    "            atom_list2 = Selection.unfold_entities(chain2[res2], \"A\")\n",
    "            distance = min(\n",
    "                atom1 - atom2\n",
    "                for atom1 in atom_list1\n",
    "                for atom2 in atom_list2\n",
    "            )\n",
    "            matrix[i, j] = distance\n",
    "    plt.figure(figsize=(10, 8))\n",
    "    \n",
    "    # Apply Seaborn's heatmap\n",
    "    \n",
    "    cmap='rocket'\n",
    "    title='Distance Heatmap '\n",
    "    sns.heatmap(distance_matrix, cmap=cmap, annot=False, fmt=\".2f\", vmin=0, vmax=cutoff)\n",
    "    \n",
    "    ##################################################################################\n",
    "    x_tick_labels = [ x for x in range(startRes1, endRes1, 1)]\n",
    "    y_tick_labels = [y for y in range(startRes2, endRes2, 1)]\n",
    "    print('X labels:',x_tick_labels)\n",
    "    print('Y labels:',y_tick_labels)\n",
    "    \n",
    "    # Set custom tick labels for x and y axes\n",
    "    plt.xticks(range(len(x_tick_labels)), x_tick_labels)\n",
    "    plt.yticks(range(len(y_tick_labels)), y_tick_labels)\n",
    "\n",
    "    # Show the plot\n",
    "    plt.show()\n",
    "    '''\n",
    "    \n",
    "    x_axis_labels = [1,2,3,4,5,6,7,8,9,10,11,12] # labels for x-axis\n",
    "    y_axis_labels = [11,22,33,44,55,66,77,88,99,101,111,121] # labels for y-axis\n",
    "\n",
    "    # create seabvorn heatmap with required labels\n",
    "    sns.heatmap(flights_df, xticklabels=x_axis_labels, yticklabels=y_axis_labels)\n",
    "    '''\n",
    "    ###################################################################################\n",
    "\n",
    "    \n",
    "    plt.title(title)\n",
    "    plt.xlabel('Chain 2 Residues'+extraChain_1)\n",
    "    plt.ylabel('Chain 1 Residues'+extraChain_2)\n",
    "    plt.show()\n",
    "\n",
    "    return matrix"
   ]
  },
  {
   "cell_type": "code",
   "execution_count": 118,
   "id": "2f0476f4",
   "metadata": {},
   "outputs": [],
   "source": [
    "import numpy as np\n",
    "import matplotlib.pyplot as plt\n",
    "import seaborn as sns\n",
    "from Bio.PDB import PDBParser, Selection\n",
    "\n",
    "def calculate_distance_matrix(pdb_filename, chainID1, chainID2, startRes1=None, endRes1=None, startRes2=None, endRes2=None):\n",
    "    extraChain_1 = ''\n",
    "    extraChain_2 = ''\n",
    "    # Create a PDB parser\n",
    "    parser = PDBParser(QUIET=True)\n",
    "\n",
    "    # Load the structure from the PDB file\n",
    "    structure = parser.get_structure(\"structure\", pdb_filename)\n",
    "\n",
    "    # Get the chain objects from the structure\n",
    "    chain1 = structure[0][chainID1]\n",
    "    chain2 = structure[0][chainID2]\n",
    "    \n",
    "    #Checking if we are using the cut startRed and endRes \n",
    "\n",
    "    # Set default values for startRes and endRes if not provided\n",
    "    if startRes1 is None:\n",
    "        startRes1 = min(r.id[1] for r in chain1)\n",
    "    if endRes1 is None:\n",
    "        endRes1 = max(r.id[1] for r in chain1)\n",
    "    if startRes2 is None:\n",
    "        startRes2 = min(r.id[1] for r in chain2)\n",
    "    if endRes2 is None:\n",
    "        endRes2 = max(r.id[1] for r in chain2)\n",
    "    \n",
    "    # Initialize a distance matrix\n",
    "    matrix = np.zeros((endRes1 - startRes1 + 1, endRes2 - startRes2 + 1))\n",
    "\n",
    "    # Calculate distances between specified residues\n",
    "    for i, res1 in enumerate(range(startRes1, endRes1 + 1)):\n",
    "        for j, res2 in enumerate(range(startRes2, endRes2 + 1)):\n",
    "            atom_list1 = Selection.unfold_entities(chain1[res1], \"A\")\n",
    "            atom_list2 = Selection.unfold_entities(chain2[res2], \"A\")\n",
    "            distance = min(\n",
    "                atom1 - atom2\n",
    "                for atom1 in atom_list1\n",
    "                for atom2 in atom_list2\n",
    "            )\n",
    "            matrix[i, j] = distance\n",
    "    \n",
    "    plt.figure(figsize=(12, 8))  # Wider figure\n",
    "    \n",
    "    # Apply Seaborn's heatmap\n",
    "    cmap = 'rocket'\n",
    "    title = 'Distance Heatmap'\n",
    "    sns.heatmap(matrix, cmap=cmap, annot=False, fmt=\".2f\", vmin=0, vmax=5)\n",
    "    \n",
    "    # Calculate tick spacing based on the number of residues\n",
    "    x_tick_count = (endRes2 - startRes2 + 1)\n",
    "    y_tick_count = (endRes1 - startRes1 + 1)\n",
    "    \n",
    "    x_tick_step = max(1, x_tick_count // 15)  # Adjust 15 to control tick spacing\n",
    "    y_tick_step = max(1, y_tick_count // 15)  # Adjust 15 to control tick spacing\n",
    "    \n",
    "    x_tick_labels = [x for x in range(startRes2, endRes2 + 1, x_tick_step)]\n",
    "    y_tick_labels = [y for y in range(startRes1, endRes1 + 1, y_tick_step)]\n",
    "    \n",
    "    plt.xticks(np.arange(len(x_tick_labels)) + 0.5, x_tick_labels)\n",
    "    plt.yticks(np.arange(len(y_tick_labels)) + 0.5, y_tick_labels)\n",
    "\n",
    "    # Set labels and display the plot\n",
    "    plt.title(title)\n",
    "    plt.xlabel('Chain 2 Residues')\n",
    "    plt.ylabel('Chain 1 Residues')\n",
    "    plt.show()\n",
    "\n",
    "    return matrix\n"
   ]
  },
  {
   "cell_type": "code",
   "execution_count": 119,
   "id": "e8cd711c",
   "metadata": {},
   "outputs": [],
   "source": [
    "import numpy as np\n",
    "import matplotlib.pyplot as plt\n",
    "import seaborn as sns\n",
    "from Bio.PDB import PDBParser, Selection\n",
    "\n",
    "def plot_distance_heatmap(distance_matrix, cutoff, cmap='viridis', title='Distance Heatmap'):\n",
    "    plt.figure(figsize=(10, 8))\n",
    "    \n",
    "    # Apply Seaborn's heatmap\n",
    "    sns.heatmap(distance_matrix, cmap=cmap, annot=False, fmt=\".2f\", vmin=0, vmax=cutoff)\n",
    "    \n",
    "    plt.title(title)\n",
    "    plt.xlabel('Chain 2 Residues')\n",
    "    plt.ylabel('Chain 1 Residues')\n",
    "    plt.show()\n"
   ]
  },
  {
   "cell_type": "code",
   "execution_count": 121,
   "id": "f643b86a",
   "metadata": {},
   "outputs": [
    {
     "data": {
      "image/png": "[encoded data removed]",
      "text/plain": [
       "<Figure size 1200x800 with 2 Axes>"
      ]
     },
     "metadata": {},
     "output_type": "display_data"
    },
    {
     "name": "stdout",
     "output_type": "stream",
     "text": [
      "[[36.19059372 35.37276459 35.12013626 ... 24.89425278 22.99537468\n",
      "  27.51955986]\n",
      " [34.24872971 33.86946869 33.33453751 ... 20.72938347 19.24203491\n",
      "  24.57565117]\n",
      " [31.45108223 30.84731674 30.43987465 ... 22.04374313 19.53881836\n",
      "  24.05911255]\n",
      " ...\n",
      " [38.75587845 37.90409851 42.6869812  ... 16.55254936 19.54849815\n",
      "  19.27268028]\n",
      " [43.50157547 43.73663712 48.20690918 ... 20.79282951 24.28608131\n",
      "  24.5981102 ]\n",
      " [47.01288223 47.38532257 51.71906281 ... 23.29732895 26.96978378\n",
      "  27.78884888]]\n"
     ]
    }
   ],
   "source": [
    "\n",
    "pdb_filename = \"testCav12andCaMmultimerv3pbd70try4_3fff0_relaxed_rank_001_alphafold2_multimer_v3_model_3_seed_000.pdb\"\n",
    "chainID1 = \"A\"\n",
    "chainID2 = \"B\"\n",
    "cutoff = 5\n",
    "startRes1 = 1610\n",
    "endRes1 = None\n",
    "startRes2 = 1\n",
    "endRes2 = None\n",
    "\n",
    "distance_matrix = calculate_distance_matrix(pdb_filename, chainID1, chainID2, startRes1, endRes1, startRes2, endRes2)\n",
    "\n",
    "print(distance_matrix)"
   ]
  },
  {
   "cell_type": "code",
   "execution_count": 99,
   "id": "07861941",
   "metadata": {},
   "outputs": [],
   "source": [
    "#plot_distance_heatmap(distance_matrix, cutoff, cmap='rocket', title='Distance Heatmap')"
   ]
  },
  {
   "cell_type": "code",
   "execution_count": 95,
   "id": "c3c038df",
   "metadata": {},
   "outputs": [
    {
     "data": {
      "text/plain": [
       "39"
      ]
     },
     "execution_count": 95,
     "metadata": {},
     "output_type": "execute_result"
    }
   ],
   "source": [
    "len(distance_matrix)"
   ]
  },
  {
   "cell_type": "code",
   "execution_count": 90,
   "id": "616a8421",
   "metadata": {},
   "outputs": [
    {
     "data": {
      "text/plain": [
       "144"
      ]
     },
     "execution_count": 90,
     "metadata": {},
     "output_type": "execute_result"
    }
   ],
   "source": [
    "len(distance_matrix[1])"
   ]
  },
  {
   "cell_type": "code",
   "execution_count": 91,
   "id": "bbfd06d3",
   "metadata": {},
   "outputs": [
    {
     "ename": "NameError",
     "evalue": "name 'endRes' is not defined",
     "output_type": "error",
     "traceback": [
      "\u001b[0;31m---------------------------------------------------------------------------\u001b[0m",
      "\u001b[0;31mNameError\u001b[0m                                 Traceback (most recent call last)",
      "Cell \u001b[0;32mIn[91], line 1\u001b[0m\n\u001b[0;32m----> 1\u001b[0m x_axis_labels \u001b[38;5;241m=\u001b[39m [ x \u001b[38;5;28;01mfor\u001b[39;00m x \u001b[38;5;129;01min\u001b[39;00m \u001b[38;5;28mrange\u001b[39m(startRes1, \u001b[43mendRes\u001b[49m, \u001b[38;5;241m1\u001b[39m)]\n",
      "\u001b[0;31mNameError\u001b[0m: name 'endRes' is not defined"
     ]
    }
   ],
   "source": [
    "#x_axis_labels = [ x for x in range(startRes1, endRes, 1)] # labels for x-axis. Should be chain2. for calmodulin is 144\n",
    "#y_axis_labels = [11,22,33,44,55,66,77,88,99,101,111,121] # labels for y-axis. Should be chain 2. hCav1.2 starting on 1610 is 39 \n"
   ]
  },
  {
   "cell_type": "code",
   "execution_count": null,
   "id": "4fa7b05c",
   "metadata": {},
   "outputs": [],
   "source": []
  }
 ],
 "metadata": {
  "kernelspec": {
   "display_name": "Python 3 (ipykernel)",
   "language": "python",
   "name": "python3"
  },
  "language_info": {
   "codemirror_mode": {
    "name": "ipython",
    "version": 3
   },
   "file_extension": ".py",
   "mimetype": "text/x-python",
   "name": "python",
   "nbconvert_exporter": "python",
   "pygments_lexer": "ipython3",
   "version": "3.10.9"
  }
 },
 "nbformat": 4,
 "nbformat_minor": 5
}
